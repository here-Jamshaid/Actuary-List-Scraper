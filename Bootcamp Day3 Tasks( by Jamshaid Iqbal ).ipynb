{
 "cells": [
  {
   "cell_type": "code",
   "execution_count": 4,
   "id": "b271b260-253f-4c2a-9bd9-ac188c0970f3",
   "metadata": {},
   "outputs": [
    {
     "data": {
      "text/plain": [
       "('test.txt', <http.client.HTTPMessage at 0x1b333324f20>)"
      ]
     },
     "execution_count": 4,
     "metadata": {},
     "output_type": "execute_result"
    }
   ],
   "source": [
    "import urllib.request    \n",
    "urllib.request.urlretrieve(\"https://www.actuarylist.com/\", \"test.txt\")"
   ]
  },
  {
   "cell_type": "code",
   "execution_count": 263,
   "id": "57296767-9284-4845-9d35-3c048da41b96",
   "metadata": {},
   "outputs": [
    {
     "name": "stderr",
     "output_type": "stream",
     "text": [
      "C:\\Users\\jamzh\\AppData\\Local\\Temp\\ipykernel_14568\\4068944633.py:10: DeprecationWarning: The 'text' argument to find()-type methods is deprecated. Use 'string' instead.\n",
      "  description_tag = soup.find(\"p\",  text = \"Job Description\")\n"
     ]
    },
    {
     "name": "stdout",
     "output_type": "stream",
     "text": [
      "Saved 558 extracted job listings to ActuaryList\n",
      "Saved 462 unique job listings to ActuaryList\n"
     ]
    }
   ],
   "source": [
    "import requests\n",
    "import random\n",
    "import pandas as pd\n",
    "from bs4 import BeautifulSoup\n",
    "\n",
    "def get_description(url):\n",
    "    response = requests.get(url)\n",
    "    if response.status_code == 200:\n",
    "        soup = BeautifulSoup(response.text, \"html.parser\")\n",
    "        description_tag = soup.find(\"p\",  text = \"Job Description\")       \n",
    "        if description_tag:\n",
    "            return description_tag.find_next('ul').text.strip()\n",
    "        return \"N/A\"\n",
    "    else:\n",
    "        print(f\"Failed to fetch this url Respones status is : {response.status_code} \")\n",
    "\n",
    "def get_jobs(url):\n",
    "    user_agents = [ \n",
    "\t'Mozilla/5.0 (Windows NT 10.0; Win64; x64) AppleWebKit/537.36 (KHTML, like Gecko) Chrome/91.0.4472.124 Safari/537.36', \n",
    "\t'Mozilla/5.0 (X11; Linux x86_64) AppleWebKit/537.36 (KHTML, like Gecko) Chrome/92.0.4515.107 Safari/537.36', \n",
    "\t'Mozilla/5.0 (Windows NT 10.0; Win64; x64) AppleWebKit/537.36 (KHTML, like Gecko) Chrome/90.0.4430.212 Safari/537.36', \n",
    "\t'Mozilla/5.0 (iPhone; CPU iPhone OS 12_2 like Mac OS X) AppleWebKit/605.1.15 (KHTML, like Gecko) Mobile/15E148', \n",
    "\t'Mozilla/5.0 (Linux; Android 11; SM-G960U) AppleWebKit/537.36 (KHTML, like Gecko) Chrome/89.0.4389.72 Mobile Safari/537.36' \n",
    "      ] \n",
    "    user_agent = random.choice(user_agents) \n",
    "    headers = {'User-Agent': user_agent} \n",
    "    response = requests.get(url , headers = headers)\n",
    "\n",
    "    if response.status_code == 200:\n",
    "        job_list = []\n",
    "        soup = BeautifulSoup(response.text, \"html.parser\")\n",
    "        job_cards = soup.find_all(\"article\")\n",
    "        for job in job_cards:\n",
    "            job_title = job.find(\"p\", class_=\"Job_job-card__position__ic1rc\")\n",
    "            job_salary = job.find(\"p\", class_=\"Job_job-card__salary__QZswp\")\n",
    "            job_company = job.find(\"p\" , class_=\"Job_job-card__company__7T9qY\")\n",
    "            job_country = job.find(\"a\", class_=\"Job_job-card__country__GRVhK\") \n",
    "            anchorText = job.find('a',class_=\"Job_job-page-link__a5I5g\").get(\"href\")\n",
    "            #print(anchorText)\n",
    "            #print(\"https://www.actuarylist.com\" + anchorText)\n",
    "            job_description = get_description(\"https://www.actuarylist.com\" + anchorText)\n",
    "\n",
    "            job_list.append({\n",
    "                \"Job Title\": job_title.text.strip() if job_title else \"N/A\",\n",
    "                \"Company\": job_company.text.strip() if job_company else \"N/A\",\n",
    "                \"Salary\": job_salary.text.strip() if job_salary else \"N/A\",\n",
    "                \"Country\" : job_country.text.strip() if job_country else \"N/A\",\n",
    "                \"Description\": job_description\n",
    "            })\n",
    "\n",
    "        return job_list  \n",
    "\n",
    "    else:\n",
    "        print(f\"Failed to fetch jobs, Status Code: {response.status_code}\")\n",
    "        return []\n",
    "\n",
    "base_url = \"https://www.actuarylist.com/\" \n",
    "jobs = []\n",
    "# pages = 570 / 30 = 19\n",
    "for page in range(1, 20):\n",
    "    url = base_url if page == 1 else f\"{base_url}?page={page}\"\n",
    "    jobs.extend(get_jobs(url))\n",
    "\n",
    "df = pd.DataFrame(jobs)\n",
    "df.to_csv(\"actuarylist_jobs(Extracted).csv\", index = False)\n",
    "print(f\"Saved {len(df)} extracted job listings to ActuaryList\")\n",
    "\n",
    "unique_df = df.drop_duplicates(subset = ['Job Title','Company','Country'],keep='first')\n",
    "unique_df.to_csv(\"actuarylist_jobs(Cleaned).csv\", index = False)\n",
    "print(f\"Saved {len(unique_df)} unique job listings to ActuaryList\")\n"
   ]
  },
  {
   "cell_type": "code",
   "execution_count": null,
   "id": "5a09e9b9-2790-4ee1-a774-83d7bc1b9631",
   "metadata": {},
   "outputs": [],
   "source": []
  }
 ],
 "metadata": {
  "kernelspec": {
   "display_name": "Python 3 (ipykernel)",
   "language": "python",
   "name": "python3"
  },
  "language_info": {
   "codemirror_mode": {
    "name": "ipython",
    "version": 3
   },
   "file_extension": ".py",
   "mimetype": "text/x-python",
   "name": "python",
   "nbconvert_exporter": "python",
   "pygments_lexer": "ipython3",
   "version": "3.12.7"
  }
 },
 "nbformat": 4,
 "nbformat_minor": 5
}
